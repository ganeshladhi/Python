{
 "cells": [
  {
   "cell_type": "code",
   "execution_count": 10,
   "id": "be984ae9-fabd-450a-a020-477c11f5cd12",
   "metadata": {},
   "outputs": [],
   "source": [
    "import numpy as np\n",
    "from scipy.optimize import linprog"
   ]
  },
  {
   "cell_type": "code",
   "execution_count": 14,
   "id": "c30164e9-d1fb-49f7-9f51-3666ef0c0c1b",
   "metadata": {},
   "outputs": [
    {
     "name": "stdout",
     "output_type": "stream",
     "text": [
      "[0.5 0.3 0.1 0.1]\n"
     ]
    }
   ],
   "source": [
    "# obj = [P(E),P(F),P(M),P(C)]\n",
    "# P(Asset Class) is the predicted returns by the LSTM model\n",
    "\n",
    "obj = [-0.15, -0.05, 0.2, 0.1] # negative of actual returns as the lpp is minimize while our aim is to maximize\n",
    "\n",
    "lhs_ineq = [[1,1,1,1]]\n",
    "rhs_ineq = [1]\n",
    "x1_bound = (0.2,0.5) # Equity asset class constraints as decided by client\n",
    "x2_bound = (0.2,0.5) # Fixed Income asset class constraints as decided by client\n",
    "x3_bound = (0.1,0.2) # Commodity class constraints as decided by client\n",
    "x4_bound = (0.1,0.2) # Forex class constraints as decided by client\n",
    "\n",
    "opt = linprog(c = obj, A_eq = lhs_ineq, b_eq = rhs_ineq, bounds=[x1_bound, x2_bound, x3_bound, x4_bound], method = \"highs\")\n",
    "\n",
    "print(opt.x) # optimal asset class weightage as decided by the LPP function"
   ]
  },
  {
   "cell_type": "code",
   "execution_count": null,
   "id": "5bac2ae5-e114-42fb-b148-7b4c961492fc",
   "metadata": {},
   "outputs": [],
   "source": []
  }
 ],
 "metadata": {
  "kernelspec": {
   "display_name": "Python 3 (ipykernel)",
   "language": "python",
   "name": "python3"
  },
  "language_info": {
   "codemirror_mode": {
    "name": "ipython",
    "version": 3
   },
   "file_extension": ".py",
   "mimetype": "text/x-python",
   "name": "python",
   "nbconvert_exporter": "python",
   "pygments_lexer": "ipython3",
   "version": "3.11.7"
  }
 },
 "nbformat": 4,
 "nbformat_minor": 5
}
